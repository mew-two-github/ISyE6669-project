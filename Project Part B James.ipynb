{
 "cells": [
  {
   "cell_type": "code",
   "execution_count": 1,
   "metadata": {},
   "outputs": [],
   "source": [
    "import cvxpy as cp\n",
    "import numpy as np\n",
    "import pandas as pd\n",
    "import gurobipy"
   ]
  },
  {
   "cell_type": "code",
   "execution_count": 2,
   "metadata": {},
   "outputs": [],
   "source": [
    "Elec_Demand = pd.read_csv('Electricity_Demand.csv')\n",
    "Hydro_Demand = pd.read_csv('Hydrogen_Demand.csv')\n",
    "\n",
    "Elec_Price = pd.read_csv('Electricity_Prices.csv')\n",
    "Solar_Supply = pd.read_csv('Solar_Forecast.csv')"
   ]
  },
  {
   "cell_type": "code",
   "execution_count": 38,
   "metadata": {},
   "outputs": [],
   "source": [
    "# display(Elec_Demand)\n",
    "# display(Hydro_Demand)\n",
    "# display(Elec_Price)\n",
    "# display(Solar_Supply)"
   ]
  },
  {
   "cell_type": "code",
   "execution_count": 3,
   "metadata": {},
   "outputs": [],
   "source": [
    "# Manipulate data to get it into a convienient form\n",
    "Solar_Supply['Datetime'] = pd.to_datetime(Solar_Supply['Datetime'])\n",
    "Solar_Supply['Hour'] = Solar_Supply['Datetime'].dt.hour\n",
    "cols = ['Datetime', 'Hour', '% of Rated Output']\n",
    "Solar_Supply = Solar_Supply[cols]\n",
    "Solar_Supply['MWh'] = Solar_Supply['% of Rated Output']*2"
   ]
  },
  {
   "cell_type": "markdown",
   "metadata": {},
   "source": [
    "Iteration 1: Part A"
   ]
  },
  {
   "cell_type": "code",
   "execution_count": 40,
   "metadata": {},
   "outputs": [
    {
     "name": "stdout",
     "output_type": "stream",
     "text": [
      "The optimal value is: 17916.012987517464\n",
      "The first 5 dual values solutions are:\n",
      "Electricity Demand Constraint: 22.87\n",
      "Hydrogen Demand Constraint: 10.0\n",
      "xE Sign Constraint: -0.0\n",
      "xH Sign Constraint: -0.0\n",
      "nH Sign Constraint: -0.0\n"
     ]
    }
   ],
   "source": [
    "# Define Parameters\n",
    "sE = Solar_Supply['MWh'].to_numpy() # Number of MWs of electricity produced at solar farm for hour i\n",
    "pE = Elec_Price['Price ($/MWh)'].to_numpy() # Electricity price per MWh at hour i\n",
    "pH = np.array([10 for i in range(pE.size)]) # Price of hydrogen per kg at hour i\n",
    "dE = Elec_Demand['Demand (MWh)'].to_numpy() # Electricity demand in MWh at hour i\n",
    "dH = Hydro_Demand['Demand (kg)'].to_numpy() # Hydrogen demand in kg at hour i\n",
    "\n",
    "# Define Decision Variables\n",
    "xE = cp.Variable(pE.size) # Number of MWhs of electricity purchased at hour i\n",
    "xH = cp.Variable(pE.size) # Number of kgs of hydrogen purchased at hour i\n",
    "nH = cp.Variable(pE.size) # Number of kgs of hydrogen in inventory at end of hour i\n",
    "\n",
    "constraints = [xE[0] + sE[0] >= dE[0],                      # Electricity Demand Constraint at hour 1\n",
    "               xH[0] >= dH[0] + nH[0],                      # Hydrogen Demand Constraint at hour 1\n",
    "               xE[0] >= 0, xH[0] >= 0, nH[0] >=0]           # Sign constraints at hour 1\n",
    "for i in range(1,pE.size):\n",
    "    constraints += [xE[i] + sE[i] >= dE[i],                 # Electricity Demand Constraint at hour 2 to i\n",
    "                    nH[i-1] + xH[i] >= dH[i] + nH[i],       # Hydrogen Demand Constraint at hour 2 to i\n",
    "                    xE[i] >= 0, xH[i] >= 0, nH[i] >=0]      # Sign constraints at hour 2 to i\n",
    "\n",
    "objective = cp.Minimize(pE.T@xE + pH.T@xH)                  # Minimize the cost\n",
    "\n",
    "problem = cp.Problem(objective, constraints)\n",
    "problem.solve(solver=cp.GUROBI)\n",
    "print(\"The optimal value is:\", problem.value)\n",
    "print(\"The first 5 dual values solutions are:\")\n",
    "print(\"Electricity Demand Constraint:\", problem.constraints[0].dual_value) # Dual value for the Electricity Demand Constraint at hour 1\n",
    "print(\"Hydrogen Demand Constraint:\", problem.constraints[1].dual_value) # Dual value for the Hydrogen Demand Constraint at hour 1\n",
    "print(\"xE Sign Constraint:\", problem.constraints[2].dual_value) # Dual value for the xE Sign Constraint at hour 1\n",
    "print(\"xH Sign Constraint:\", problem.constraints[3].dual_value) # Dual value for the xH Sign Constraint at hour 1\n",
    "print(\"nH Sign Constraint:\", problem.constraints[4].dual_value) # Dual value for the nH Sign Constraint at hour 1"
   ]
  },
  {
   "cell_type": "markdown",
   "metadata": {},
   "source": [
    "Iteration 2: Part A (Removed storage as a decision variable)"
   ]
  },
  {
   "cell_type": "code",
   "execution_count": 4,
   "metadata": {},
   "outputs": [
    {
     "name": "stdout",
     "output_type": "stream",
     "text": [
      "Set parameter Username\n",
      "Academic license - for non-commercial use only - expires 2024-09-03\n",
      "The optimal value is: 17916.012987517457\n",
      "The first 5 dual values solutions are:\n",
      "Electricity Demand Constraint: 22.87\n",
      "Hydrogen Demand Constraint: -0.0\n",
      "xE Sign Constraint: -0.0\n",
      "xH Sign Constraint: -0.0\n"
     ]
    }
   ],
   "source": [
    "# Define Parameters\n",
    "sE = Solar_Supply['MWh'].to_numpy() # Number of MWs of electricity produced at solar farm for hour i\n",
    "pE = Elec_Price['Price ($/MWh)'].to_numpy() # Electricity price per MWh at hour i\n",
    "pH = np.array([10 for i in range(pE.size)]) # Price of hydrogen per kg at hour i\n",
    "dE = Elec_Demand['Demand (MWh)'].to_numpy() # Electricity demand in MWh at hour i\n",
    "dH = Hydro_Demand['Demand (kg)'].to_numpy() # Hydrogen demand in kg at hour i\n",
    "\n",
    "# Define Decision Variables\n",
    "xE = cp.Variable(pE.size) # Number of MWhs of electricity purchased at hour i\n",
    "xH = cp.Variable(pE.size) # Number of kgs of hydrogen purchased at hour i\n",
    "\n",
    "constraints = [xE[0] + sE[0] >= dE[0],                              # Electricity Demand Constraint at hour 1\n",
    "               xH[0] >= dH[0],                                      # Hydrogen Demand Constraint at hour 1\n",
    "               xE[0] >= 0, xH[0] >= 0]                              # Sign constraints at hour 1\n",
    "for i in range(1,pE.size):\n",
    "    constraints += [xE[i] + sE[i] >= dE[i],                         # Electricity Demand Constraint at hour 2 to i\n",
    "                    sum(xH[0:i+1])-sum(dH[0:i]) >= dH[i],           # Hydrogen Demand Constraint at hour 2 to i\n",
    "                    xE[i] >= 0, xH[i] >= 0]                         # Sign constraints at hour 2 to i\n",
    "\n",
    "objective = cp.Minimize(pE.T@xE + pH.T@xH)                          # Minimize the cost\n",
    "\n",
    "problem = cp.Problem(objective, constraints)\n",
    "problem.solve(solver=cp.GUROBI)\n",
    "print(\"The optimal value is:\", problem.value)\n",
    "print(\"The first 5 dual values solutions are:\")\n",
    "print(\"Electricity Demand Constraint:\", problem.constraints[0].dual_value) # Dual value for the Electricity Demand Constraint at hour 1\n",
    "print(\"Hydrogen Demand Constraint:\", problem.constraints[1].dual_value) # Dual value for the Hydrogen Demand Constraint at hour 1\n",
    "print(\"xE Sign Constraint:\", problem.constraints[2].dual_value) # Dual value for the xE Sign Constraint at hour 1\n",
    "print(\"xH Sign Constraint:\", problem.constraints[3].dual_value) # Dual value for the xH Sign Constraint at hour 1"
   ]
  },
  {
   "cell_type": "code",
   "execution_count": 5,
   "metadata": {},
   "outputs": [
    {
     "name": "stdout",
     "output_type": "stream",
     "text": [
      "The optimal value is: 17916.012987517457\n",
      "The first 5 dual values solutions are:\n",
      "Electricity Demand Constraint: 22.87\n",
      "Hydrogen Demand Constraint: -0.0\n",
      "xE Sign Constraint: -0.0\n",
      "xH Sign Constraint: -0.0\n"
     ]
    }
   ],
   "source": [
    "# Define Parameters\n",
    "sE = Solar_Supply['MWh'].to_numpy() # Number of MWs of electricity produced at solar farm for hour i\n",
    "pE = Elec_Price['Price ($/MWh)'].to_numpy() # Electricity price per MWh at hour i\n",
    "pH = np.array([10 for i in range(pE.size)]) # Price of hydrogen per kg at hour i\n",
    "dE = Elec_Demand['Demand (MWh)'].to_numpy() # Electricity demand in MWh at hour i\n",
    "dH = Hydro_Demand['Demand (kg)'].to_numpy() # Hydrogen demand in kg at hour i\n",
    "\n",
    "# Define Decision Variables\n",
    "xE = cp.Variable(pE.size) # Number of MWhs of electricity purchased at hour i\n",
    "xH = cp.Variable(pE.size) # Number of kgs of hydrogen purchased at hour i\n",
    "\n",
    "constraints = []\n",
    "for i in range(0,pE.size):\n",
    "    constraints += [xE[i] + sE[i] >= dE[i],                         # Electricity Demand Constraint at hour 2 to i\n",
    "                    sum(xH[0:i+1])-sum(dH[0:i]) >= dH[i],           # Hydrogen Demand Constraint at hour 2 to i\n",
    "                    xE[i] >= 0, xH[i] >= 0]                         # Sign constraints at hour 2 to i\n",
    "\n",
    "objective = cp.Minimize(pE.T@xE + pH.T@xH)                          # Minimize the cost\n",
    "\n",
    "problem = cp.Problem(objective, constraints)\n",
    "problem.solve(solver=cp.GUROBI)\n",
    "print(\"The optimal value is:\", problem.value)\n",
    "print(\"The first 5 dual values solutions are:\")\n",
    "print(\"Electricity Demand Constraint:\", problem.constraints[0].dual_value) # Dual value for the Electricity Demand Constraint at hour 1\n",
    "print(\"Hydrogen Demand Constraint:\", problem.constraints[1].dual_value) # Dual value for the Hydrogen Demand Constraint at hour 1\n",
    "print(\"xE Sign Constraint:\", problem.constraints[2].dual_value) # Dual value for the xE Sign Constraint at hour 1\n",
    "print(\"xH Sign Constraint:\", problem.constraints[3].dual_value) # Dual value for the xH Sign Constraint at hour 1"
   ]
  },
  {
   "cell_type": "code",
   "execution_count": 6,
   "metadata": {},
   "outputs": [],
   "source": [
    "Solution_DataFrame = pd.DataFrame()\n",
    "Solution_DataFrame['Energy Needed'] = dE\n",
    "Solution_DataFrame['Solar Energy Generated'] = sE\n",
    "Solution_DataFrame['Energy Purchased'] = xE.value\n",
    "Solution_DataFrame['Energy Cost at Hour'] = pE\n",
    "Solution_DataFrame['Hydrogen Needed'] = dH\n",
    "Solution_DataFrame['Hydrogen Purchased'] = xH.value\n",
    "Solution_DataFrame['Hydrogen Cost at Hour'] = pH\n",
    "Solution_DataFrame['Total Cost at Hour'] = (Solution_DataFrame['Energy Purchased'].values * Solution_DataFrame['Energy Cost at Hour'].values\n",
    "                                            + Solution_DataFrame['Hydrogen Purchased'].values * Solution_DataFrame['Hydrogen Cost at Hour'].values)\n",
    "Solution_DataFrame['Total Cost'] = Solution_DataFrame['Total Cost at Hour'].cumsum(axis=0)\n",
    "Solution_DataFrame.index.name = 'Hour'\n",
    "Solution_DataFrame.index = Solution_DataFrame.index+1\n",
    "Solution_DataFrame.to_csv('standard output.csv')\n",
    "# display(Solution_DataFrame)"
   ]
  },
  {
   "cell_type": "markdown",
   "metadata": {},
   "source": [
    "Iteration 3: Part B Solar Panels (b=2)"
   ]
  },
  {
   "cell_type": "code",
   "execution_count": 7,
   "metadata": {},
   "outputs": [
    {
     "name": "stdout",
     "output_type": "stream",
     "text": [
      "The optimal value is: 17906.248659517456\n",
      "The first 5 dual values solutions are:\n",
      "Electricity Demand Constraint: 22.87\n",
      "Hydrogen Demand Constraint: -0.0\n",
      "xE Sign Constraint: -0.0\n",
      "xH Sign Constraint: -0.0\n"
     ]
    }
   ],
   "source": [
    "# Define Parameters\n",
    "b = 2 # number of solar panels purchased\n",
    "Solar_Supply['MWh'] = Solar_Supply['% of Rated Output']\n",
    "sE = Solar_Supply['MWh'].to_numpy() # Number of MWs of electricity produced at solar farm for hour i\n",
    "pE = Elec_Price['Price ($/MWh)'].to_numpy() # Electricity price per MWh at hour i\n",
    "pH = np.array([10 for i in range(pE.size)]) # Price of hydrogen per kg at hour i\n",
    "dE = Elec_Demand['Demand (MWh)'].to_numpy() # Electricity demand in MWh at hour i\n",
    "dH = Hydro_Demand['Demand (kg)'].to_numpy() # Hydrogen demand in kg at hour i\n",
    "\n",
    "# Define Decision Variables\n",
    "xE = cp.Variable(pE.size) # Number of MWhs of electricity purchased at hour i\n",
    "xH = cp.Variable(pE.size) # Number of kgs of hydrogen purchased at hour i\n",
    "\n",
    "constraints = []\n",
    "for i in range(0,pE.size):\n",
    "    constraints += [xE[i] + (sE[i]*(2+(0.2*b))) >= dE[i],           # Electricity Demand Constraint at hour 2 to i\n",
    "                    sum(xH[0:i+1])-sum(dH[0:i]) >= dH[i],           # Hydrogen Demand Constraint at hour 2 to i\n",
    "                    xE[i] >= 0, xH[i] >= 0]                         # Sign constraints at hour 2 to i\n",
    "\n",
    "objective = cp.Minimize(pE.T@xE + pH.T@xH)                          # Minimize the cost\n",
    "\n",
    "problem = cp.Problem(objective, constraints)\n",
    "problem.solve(solver=cp.GUROBI)\n",
    "print(\"The optimal value is:\", problem.value)\n",
    "print(\"The first 5 dual values solutions are:\")\n",
    "print(\"Electricity Demand Constraint:\", problem.constraints[0].dual_value) # Dual value for the Electricity Demand Constraint at hour 1\n",
    "print(\"Hydrogen Demand Constraint:\", problem.constraints[1].dual_value) # Dual value for the Hydrogen Demand Constraint at hour 1\n",
    "print(\"xE Sign Constraint:\", problem.constraints[2].dual_value) # Dual value for the xE Sign Constraint at hour 1\n",
    "print(\"xH Sign Constraint:\", problem.constraints[3].dual_value) # Dual value for the xH Sign Constraint at hour 1"
   ]
  },
  {
   "cell_type": "markdown",
   "metadata": {},
   "source": [
    "2 extra Solar Panels Bought"
   ]
  },
  {
   "cell_type": "code",
   "execution_count": 8,
   "metadata": {},
   "outputs": [],
   "source": [
    "Solution_DataFrame = pd.DataFrame()\n",
    "Solution_DataFrame['Energy Needed'] = dE\n",
    "Solution_DataFrame['Solar Energy Generated'] = sE*(2+(0.2*b))\n",
    "Solution_DataFrame['Energy Purchased'] = xE.value\n",
    "Solution_DataFrame['Energy Cost at Hour'] = pE\n",
    "Solution_DataFrame['Hydrogen Needed'] = dH\n",
    "Solution_DataFrame['Hydrogen Purchased'] = xH.value\n",
    "Solution_DataFrame['Hydrogen Cost at Hour'] = pH\n",
    "Solution_DataFrame['Total Cost at Hour'] = (Solution_DataFrame['Energy Purchased'].values * Solution_DataFrame['Energy Cost at Hour'].values\n",
    "                                            + Solution_DataFrame['Hydrogen Purchased'].values * Solution_DataFrame['Hydrogen Cost at Hour'].values)\n",
    "Solution_DataFrame['Total Cost'] = Solution_DataFrame['Total Cost at Hour'].cumsum(axis=0)\n",
    "Solution_DataFrame.index.name = 'Hour'\n",
    "Solution_DataFrame.index = Solution_DataFrame.index+1\n",
    "Solution_DataFrame.to_csv('2SolarPanelsXtra.csv')\n",
    "# display(Solution_DataFrame)"
   ]
  },
  {
   "cell_type": "markdown",
   "metadata": {},
   "source": [
    "Iteration 3: Part B Solar Panels (b=x)"
   ]
  },
  {
   "cell_type": "code",
   "execution_count": 9,
   "metadata": {},
   "outputs": [
    {
     "name": "stdout",
     "output_type": "stream",
     "text": [
      "The optimal value is: 17916.012987517457\n",
      "The optimal number of solar panels to purchase: [-0.]\n"
     ]
    }
   ],
   "source": [
    "# Define Parameters\n",
    "Solar_Supply['MWh'] = Solar_Supply['% of Rated Output']\n",
    "sE = Solar_Supply['MWh'].to_numpy() # Number of MWs of electricity produced at solar farm for hour i\n",
    "pE = Elec_Price['Price ($/MWh)'].to_numpy() # Electricity price per MWh at hour i\n",
    "pH = np.array([10 for i in range(pE.size)]) # Price of hydrogen per kg at hour i\n",
    "dE = Elec_Demand['Demand (MWh)'].to_numpy() # Electricity demand in MWh at hour i\n",
    "dH = Hydro_Demand['Demand (kg)'].to_numpy() # Hydrogen demand in kg at hour i\n",
    "\n",
    "# Define Decision Variables\n",
    "xE = cp.Variable(pE.size) # Number of MWhs of electricity purchased at hour i\n",
    "xH = cp.Variable(pE.size) # Number of kgs of hydrogen purchased at hour i\n",
    "b = cp.Variable(1, integer=True) # number of solar panels purchased\n",
    "\n",
    "constraints = [b >= 0]\n",
    "for i in range(0,pE.size):\n",
    "    constraints += [xE[i] + (sE[i]*(2+(0.2*b))) >= dE[i],           # Electricity Demand Constraint at hour 2 to i\n",
    "                    sum(xH[0:i+1])-sum(dH[0:i]) >= dH[i],           # Hydrogen Demand Constraint at hour 2 to i\n",
    "                    xE[i] >= 0, xH[i] >= 0]                         # Sign constraints at hour 2 to i\n",
    "\n",
    "objective = cp.Minimize(pE.T@xE + pH.T@xH + + 2113.5*b)             # Minimize the cost\n",
    "\n",
    "problem = cp.Problem(objective, constraints)\n",
    "problem.solve(solver=cp.GUROBI)\n",
    "print(\"The optimal value is:\", problem.value)\n",
    "print(\"The optimal number of solar panels to purchase:\", b.value)"
   ]
  },
  {
   "cell_type": "markdown",
   "metadata": {},
   "source": [
    "x extra Solar Panels Bought"
   ]
  },
  {
   "cell_type": "code",
   "execution_count": 11,
   "metadata": {},
   "outputs": [],
   "source": [
    "Solution_DataFrame = pd.DataFrame()\n",
    "Solution_DataFrame['Energy Needed'] = dE\n",
    "Solution_DataFrame['Solar Energy Generated'] = sE*(2+(0.2*b.value))\n",
    "Solution_DataFrame['Energy Purchased'] = xE.value\n",
    "Solution_DataFrame['Energy Cost at Hour'] = pE\n",
    "Solution_DataFrame['Hydrogen Needed'] = dH\n",
    "Solution_DataFrame['Hydrogen Purchased'] = xH.value\n",
    "Solution_DataFrame['Hydrogen Cost at Hour'] = pH\n",
    "Solution_DataFrame['Total Cost at Hour'] = (Solution_DataFrame['Energy Purchased'].values * Solution_DataFrame['Energy Cost at Hour'].values\n",
    "                                            + Solution_DataFrame['Hydrogen Purchased'].values * Solution_DataFrame['Hydrogen Cost at Hour'].values)\n",
    "Solution_DataFrame['Total Cost'] = Solution_DataFrame['Total Cost at Hour'].cumsum(axis=0)\n",
    "Solution_DataFrame.index.name = 'Hour'\n",
    "Solution_DataFrame.index = Solution_DataFrame.index+1\n",
    "Solution_DataFrame.to_csv('xSolarPanelsXtra.csv')\n",
    "# display(Solution_DataFrame)"
   ]
  },
  {
   "cell_type": "code",
   "execution_count": null,
   "metadata": {},
   "outputs": [],
   "source": []
  }
 ],
 "metadata": {
  "kernelspec": {
   "display_name": "Python 3",
   "language": "python",
   "name": "python3"
  },
  "language_info": {
   "codemirror_mode": {
    "name": "ipython",
    "version": 3
   },
   "file_extension": ".py",
   "mimetype": "text/x-python",
   "name": "python",
   "nbconvert_exporter": "python",
   "pygments_lexer": "ipython3",
   "version": "3.7.16"
  }
 },
 "nbformat": 4,
 "nbformat_minor": 2
}
